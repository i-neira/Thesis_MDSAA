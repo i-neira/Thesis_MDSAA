{
 "cells": [
  {
   "cell_type": "code",
   "execution_count": null,
   "id": "1471f1ec",
   "metadata": {},
   "outputs": [],
   "source": [
    "import os\n",
    "import sys\n",
    "from datasets import Dataset\n",
    "from ragas import evaluate\n",
    "from ragas.metrics import (\n",
    "    answer_relevancy,\n",
    "    context_precision,\n",
    "    context_recall,\n",
    "    faithfulness,\n",
    ")\n",
    "from ragas.llms import LangchainLLMWrapper\n",
    "from ragas.embeddings import LangchainEmbeddingsWrapper\n",
    "from langchain_openai.chat_models import AzureChatOpenAI        \n",
    "from langchain_openai.embeddings import AzureOpenAIEmbeddings   \n",
    "import json"
   ]
  },
  {
   "cell_type": "code",
   "execution_count": 2,
   "id": "0010571a",
   "metadata": {},
   "outputs": [],
   "source": [
    "## Paths in the project\n",
    "\n",
    "# Base Folder:\n",
    "base_folder = os.path.dirname(os.getcwd())\n",
    "\n",
    "# Answers path\n",
    "answers_path = os.path.join(base_folder, 'Answers')\n",
    "\n",
    "# Vector_DBs path\n",
    "vector_dbs_path = os.path.join(base_folder, 'Vector_DBs')\n",
    "\n",
    "# Code path\n",
    "code_path = os.path.join(base_folder, 'Code')\n",
    "\n",
    "# AI_Prepositions path\n",
    "ai_prepositions_path = os.path.join(base_folder, 'AI_Prepositions')\n",
    "\n",
    "# Corpus path\n",
    "corpus_path = os.path.join(base_folder, 'Corpus')\n",
    "\n",
    "# Ground_Truth path\n",
    "ground_truth_path = os.path.join(base_folder, 'Ground_Truth')\n",
    "\n",
    "# RAGAS_Results path\n",
    "ragas_results_path = os.path.join(base_folder, 'RAGAS_Results')"
   ]
  },
  {
   "cell_type": "code",
   "execution_count": null,
   "id": "6028607e",
   "metadata": {},
   "outputs": [],
   "source": [
    "# Configurar la API de Azure\n",
    "\n",
    "os.environ[\"AZURE_OPENAI_API_KEY\"] = \"YOUR_KEY\" # Your Key\n",
    "\n",
    "azure_configs = {\n",
    "    \"base_url\": \"YOUR_URL\", # Your endpoint\n",
    "    \"model_deployment\": \"YOUR_MODEL\", # Your model_deployment (LLM)\n",
    "    \"model_name\": \"YOUR_MODEL_NAME\", # Your model_name (LLM)\n",
    "    \"embedding_deployment\": \"YOUR_MODEL\", # Your model_deployment (embedding)\n",
    "    \"embedding_name\": \"YOUR_MODEL_NAME\", # Your model_name (embedding)\n",
    "}"
   ]
  },
  {
   "cell_type": "code",
   "execution_count": 3,
   "id": "3625a74e",
   "metadata": {},
   "outputs": [],
   "source": [
    "# List of metrics\n",
    "metrics = [answer_relevancy, context_precision, context_recall, faithfulness]"
   ]
  },
  {
   "cell_type": "code",
   "execution_count": null,
   "id": "39c747e6",
   "metadata": {},
   "outputs": [],
   "source": [
    "# Configure the LLM and Embeddings using wrappers\n",
    "azure_llm = AzureChatOpenAI(\n",
    "    openai_api_version=\"YOUR API_version\", # Your API_version\n",
    "    azure_endpoint=azure_configs[\"base_url\"], \n",
    "    azure_deployment=azure_configs[\"model_deployment\"], \n",
    "    model=azure_configs[\"model_name\"], \n",
    "    validate_base_url=False,\n",
    ")\n",
    "\n",
    "# init the embeddings for answer_relevancy, answer_correctness and answer_similarity\n",
    "azure_embeddings = AzureOpenAIEmbeddings(\n",
    "    openai_api_version=\"YOUR API_version\", # Your API_version\n",
    "    azure_endpoint=azure_configs[\"base_url\"],\n",
    "    azure_deployment=azure_configs[\"embedding_deployment\"],\n",
    "    model=azure_configs[\"embedding_name\"],\n",
    ")\n",
    "\n",
    "\n",
    "#  Wrap the Azure LLM instance\n",
    "llm = LangchainLLMWrapper(azure_llm)\n",
    "# Wrap the Azure embeddings model\n",
    "embeddings = LangchainEmbeddingsWrapper(azure_embeddings)"
   ]
  },
  {
   "cell_type": "code",
   "execution_count": 4,
   "id": "06475555",
   "metadata": {},
   "outputs": [],
   "source": [
    "# We need the .json file\n",
    "# Import the needed .json file\n",
    "with open(os.path.join(ground_truth_path, \"mistral_ai_truth.json\"), \"r\", encoding=\"utf-8\") as f: # Change the name of the file\n",
    "    data = json.load(f)"
   ]
  },
  {
   "cell_type": "code",
   "execution_count": 6,
   "id": "a8545dd7",
   "metadata": {},
   "outputs": [],
   "source": [
    "# Transform it to HuggingFace Dataset format\n",
    "dataset = Dataset.from_list(data)"
   ]
  },
  {
   "cell_type": "code",
   "execution_count": null,
   "id": "4f2c95ba",
   "metadata": {},
   "outputs": [
    {
     "name": "stderr",
     "output_type": "stream",
     "text": [
      "Evaluating: 100%|██████████| 12/12 [00:22<00:00,  1.90s/it]\n"
     ]
    },
    {
     "name": "stdout",
     "output_type": "stream",
     "text": [
      "===== Métricas RAGAS con GPT-4o =====\n",
      "{'faithfulness': 0.9872, 'answer_relevancy': 0.5830, 'context_precision': 0.2611, 'context_recall': 0.3026}\n"
     ]
    }
   ],
   "source": [
    "# Evaluate with the desired metrics\n",
    "results = evaluate(\n",
    "    dataset,\n",
    "    metrics=[\n",
    "        faithfulness,\n",
    "        answer_relevancy,\n",
    "        context_precision,\n",
    "        context_recall\n",
    "    ],\n",
    "    llm=llm,\n",
    "    embeddings=embeddings\n",
    ")\n",
    "\n",
    "# Display results\n",
    "print(\"===== Métricas RAGAS con GPT-4o =====\") # RAGAS metrics with GPT-4o\n",
    "print(results)"
   ]
  },
  {
   "cell_type": "code",
   "execution_count": null,
   "id": "acb92520",
   "metadata": {},
   "outputs": [],
   "source": [
    "# Save the result as df\n",
    "df = results.to_pandas()\n",
    "\n",
    "# Export the result\n",
    "df.to_excel(os.path.join(ragas_results_path, \"mistral_ai_RAGAS_score.xlsx\"), index=False) # Change the name according with the model that you are using"
   ]
  }
 ],
 "metadata": {
  "kernelspec": {
   "display_name": "RAG",
   "language": "python",
   "name": "python3"
  },
  "language_info": {
   "codemirror_mode": {
    "name": "ipython",
    "version": 3
   },
   "file_extension": ".py",
   "mimetype": "text/x-python",
   "name": "python",
   "nbconvert_exporter": "python",
   "pygments_lexer": "ipython3",
   "version": "3.12.9"
  }
 },
 "nbformat": 4,
 "nbformat_minor": 5
}
